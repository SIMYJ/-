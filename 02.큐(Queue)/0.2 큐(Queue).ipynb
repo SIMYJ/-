{
 "cells": [
  {
   "cell_type": "markdown",
   "id": "continuing-organization",
   "metadata": {},
   "source": [
    "# 1. 큐(Queue)"
   ]
  },
  {
   "cell_type": "markdown",
   "id": "characteristic-monte",
   "metadata": {},
   "source": [
    "- 가장 먼저 넣은 데이터를 가정 먼저 꺼낼 수 있는 구조\n",
    "- FIFO(First-in, First-out) 또는 LILO(Last-in, Last-Out)방식\n",
    "- 스택과 꺼내는 순서가 반대"
   ]
  },
  {
   "cell_type": "markdown",
   "id": "worldwide-copying",
   "metadata": {},
   "source": [
    "# 2. 큐 용어\n",
    "```\n",
    "- 인큐(Enqueue) : 큐에 데이터를 넣는 기능\n",
    "- 데큐(Dequeue) : 큐에서 데이터를 꺼내는 기능\n",
    "- Head(Font)   : 데이터를 꺼내는 쪽\n",
    "- Tail(Rear)   : 데이터를 넣은 쪽\n",
    "```\n",
    "큐 시연해보기 : https://visualgo.net/en/list"
   ]
  },
  {
   "cell_type": "markdown",
   "id": "broad-breath",
   "metadata": {},
   "source": [
    "### 인큐(Enqueue)\n",
    "![](https://i.imgur.com/aU7j4JC.gif)"
   ]
  },
  {
   "cell_type": "markdown",
   "id": "electoral-processing",
   "metadata": {},
   "source": [
    "### 데큐(Dequeue)\n",
    "\n",
    "![](https://i.imgur.com/JybLETU.gif)"
   ]
  },
  {
   "cell_type": "markdown",
   "id": "supported-lodging",
   "metadata": {},
   "source": [
    "# 3. 파이썬 구현"
   ]
  },
  {
   "cell_type": "markdown",
   "id": "increasing-bench",
   "metadata": {},
   "source": [
    "- 다양한 종류의 큐 : Queue(), LifoQueue(), PriorityQueue()\n",
    "- Queue() : 가장 일반적인 자료구조 큐\n",
    "- LifoQueue() : 나중에 입력된 데이터가 먼저 출력되는 구조 (스택 구조와 같다.)\n",
    "- PriorityQueue() : 데이터마다 우선순위를 넣어서, 우선순위가 높은 순으로 데이터 출력"
   ]
  },
  {
   "cell_type": "markdown",
   "id": "alike-elephant",
   "metadata": {},
   "source": [
    "## 3.1. Queue()로 큐 만들기(일반적인 큐, FIFO)"
   ]
  },
  {
   "cell_type": "code",
   "execution_count": 18,
   "id": "higher-bottom",
   "metadata": {},
   "outputs": [],
   "source": [
    "import queue\n",
    "\n",
    "data_queue = queue.Queue()"
   ]
  },
  {
   "cell_type": "code",
   "execution_count": 19,
   "id": "proved-secret",
   "metadata": {},
   "outputs": [],
   "source": [
    "data_queue.put(\"funcoding\") # 큐에 'funcoding' 데이터 넣기\n",
    "data_queue.put(1) # 큐에 1 넣기"
   ]
  },
  {
   "cell_type": "code",
   "execution_count": 20,
   "id": "known-buddy",
   "metadata": {},
   "outputs": [
    {
     "data": {
      "text/plain": [
       "2"
      ]
     },
     "execution_count": 20,
     "metadata": {},
     "output_type": "execute_result"
    }
   ],
   "source": [
    "data_queue.qsize() # 큐 사이즈"
   ]
  },
  {
   "cell_type": "code",
   "execution_count": 21,
   "id": "undefined-property",
   "metadata": {},
   "outputs": [
    {
     "data": {
      "text/plain": [
       "'funcoding'"
      ]
     },
     "execution_count": 21,
     "metadata": {},
     "output_type": "execute_result"
    }
   ],
   "source": [
    "data_queue.get() # 데이터 꺼내기"
   ]
  },
  {
   "cell_type": "code",
   "execution_count": 22,
   "id": "timely-outdoors",
   "metadata": {
    "scrolled": true
   },
   "outputs": [
    {
     "data": {
      "text/plain": [
       "1"
      ]
     },
     "execution_count": 22,
     "metadata": {},
     "output_type": "execute_result"
    }
   ],
   "source": [
    "data_queue.qsize() # 큐 사이즈"
   ]
  },
  {
   "cell_type": "code",
   "execution_count": 23,
   "id": "humanitarian-hundred",
   "metadata": {},
   "outputs": [
    {
     "data": {
      "text/plain": [
       "1"
      ]
     },
     "execution_count": 23,
     "metadata": {},
     "output_type": "execute_result"
    }
   ],
   "source": [
    "data_queue.get() # 데이터 꺼내기"
   ]
  },
  {
   "cell_type": "markdown",
   "id": "creative-binding",
   "metadata": {},
   "source": [
    "데이터 넣기\n",
    "데이터 빼기\n",
    "\n"
   ]
  },
  {
   "cell_type": "markdown",
   "id": "cleared-revelation",
   "metadata": {},
   "source": [
    "## 3.2. LifoQueue() (LIFO)"
   ]
  },
  {
   "cell_type": "code",
   "execution_count": 25,
   "id": "latter-riverside",
   "metadata": {},
   "outputs": [],
   "source": [
    "import queue\n",
    "data_queue = queue.LifoQueue()"
   ]
  },
  {
   "cell_type": "code",
   "execution_count": 26,
   "id": "serious-fairy",
   "metadata": {},
   "outputs": [],
   "source": [
    "data_queue.put(\"funcoding\") # 큐에 'funcoding' 데이터 넣기\n",
    "data_queue.put(1) # 큐에 1 넣기"
   ]
  },
  {
   "cell_type": "code",
   "execution_count": 27,
   "id": "atlantic-registrar",
   "metadata": {},
   "outputs": [
    {
     "data": {
      "text/plain": [
       "2"
      ]
     },
     "execution_count": 27,
     "metadata": {},
     "output_type": "execute_result"
    }
   ],
   "source": [
    "data_queue.qsize() # 큐 사이즈"
   ]
  },
  {
   "cell_type": "code",
   "execution_count": 28,
   "id": "concerned-lover",
   "metadata": {},
   "outputs": [
    {
     "data": {
      "text/plain": [
       "1"
      ]
     },
     "execution_count": 28,
     "metadata": {},
     "output_type": "execute_result"
    }
   ],
   "source": [
    "data_queue.get() # 데이터 꺼내기"
   ]
  },
  {
   "cell_type": "code",
   "execution_count": 29,
   "id": "stock-selling",
   "metadata": {},
   "outputs": [
    {
     "data": {
      "text/plain": [
       "1"
      ]
     },
     "execution_count": 29,
     "metadata": {},
     "output_type": "execute_result"
    }
   ],
   "source": [
    "data_queue.qsize() # 큐 사이즈"
   ]
  },
  {
   "cell_type": "code",
   "execution_count": 30,
   "id": "general-principle",
   "metadata": {},
   "outputs": [
    {
     "data": {
      "text/plain": [
       "'funcoding'"
      ]
     },
     "execution_count": 30,
     "metadata": {},
     "output_type": "execute_result"
    }
   ],
   "source": [
    "data_queue.get() # 데이터 꺼내기"
   ]
  },
  {
   "cell_type": "markdown",
   "id": "mobile-assumption",
   "metadata": {},
   "source": [
    "## 3.1. PriofityQueue()  우선순위 큐\n",
    "- 숫자가 낮을수록 우선순위가 높다.\n",
    "- data_queue.put((우선순위,\"입력데이터\"))"
   ]
  },
  {
   "cell_type": "code",
   "execution_count": 33,
   "id": "flush-atlas",
   "metadata": {},
   "outputs": [],
   "source": [
    "import queue\n",
    "data_queue = queue.PriorityQueue()"
   ]
  },
  {
   "cell_type": "code",
   "execution_count": 34,
   "id": "broadband-treasury",
   "metadata": {},
   "outputs": [],
   "source": [
    "data_queue.put((10,\"korea\"))\n",
    "data_queue.put((5,1))\n",
    "data_queue.put((15,\"china\"))\n",
    "#data_queue.put((우선순위,\"입력데이터\"))"
   ]
  },
  {
   "cell_type": "code",
   "execution_count": 35,
   "id": "adequate-latest",
   "metadata": {},
   "outputs": [
    {
     "data": {
      "text/plain": [
       "(5, 1)"
      ]
     },
     "execution_count": 35,
     "metadata": {},
     "output_type": "execute_result"
    }
   ],
   "source": [
    "data_queue.get()"
   ]
  },
  {
   "cell_type": "code",
   "execution_count": 36,
   "id": "median-sandwich",
   "metadata": {
    "scrolled": true
   },
   "outputs": [
    {
     "data": {
      "text/plain": [
       "(10, 'korea')"
      ]
     },
     "execution_count": 36,
     "metadata": {},
     "output_type": "execute_result"
    }
   ],
   "source": [
    "data_queue.get()"
   ]
  },
  {
   "cell_type": "code",
   "execution_count": 37,
   "id": "frequent-ecology",
   "metadata": {
    "scrolled": true
   },
   "outputs": [
    {
     "data": {
      "text/plain": [
       "(15, 'china')"
      ]
     },
     "execution_count": 37,
     "metadata": {},
     "output_type": "execute_result"
    }
   ],
   "source": [
    "data_queue.get()"
   ]
  },
  {
   "cell_type": "markdown",
   "id": "involved-positive",
   "metadata": {},
   "source": [
    "## 큐는 어디에서 사용되는가?\n",
    "\n",
    "- 운영체제에서 멀티 태스킹을 구현하기 위해서 프로세스 스케쥴링 할때 많이 사용된다. (운영체제 사용)\n",
    "    - 큐의 경우 장단점보다는 큐의 활용 예로 프로세스 스케쥴링 방식을 함께 이해하는것이 좋다.\n"
   ]
  },
  {
   "cell_type": "markdown",
   "id": "christian-graduate",
   "metadata": {},
   "source": [
    "# 4. 인큐,데큐 기능 구현하기(리스트변수 사용)"
   ]
  },
  {
   "cell_type": "code",
   "execution_count": 43,
   "id": "outstanding-insulation",
   "metadata": {},
   "outputs": [],
   "source": [
    "queue_list = list()\n",
    "\n",
    "def enqueue(data):\n",
    "    queue_list.append(data)\n",
    "    \n",
    "def dequeue():\n",
    "    data = queue_list[0] #아웃풋 값 data저장\n",
    "    del queue_list[0] # 아웃풋값 큐에서 삭제\n",
    "    return data"
   ]
  },
  {
   "cell_type": "code",
   "execution_count": 44,
   "id": "durable-situation",
   "metadata": {},
   "outputs": [],
   "source": [
    "for index in range(10):\n",
    "    enqueue(index)"
   ]
  },
  {
   "cell_type": "code",
   "execution_count": 45,
   "id": "empirical-marshall",
   "metadata": {},
   "outputs": [
    {
     "data": {
      "text/plain": [
       "10"
      ]
     },
     "execution_count": 45,
     "metadata": {},
     "output_type": "execute_result"
    }
   ],
   "source": [
    "len(queue_list)"
   ]
  },
  {
   "cell_type": "code",
   "execution_count": 46,
   "id": "herbal-testimony",
   "metadata": {
    "scrolled": true
   },
   "outputs": [
    {
     "data": {
      "text/plain": [
       "0"
      ]
     },
     "execution_count": 46,
     "metadata": {},
     "output_type": "execute_result"
    }
   ],
   "source": [
    "dequeue()"
   ]
  },
  {
   "cell_type": "code",
   "execution_count": 47,
   "id": "wired-coordinator",
   "metadata": {},
   "outputs": [
    {
     "data": {
      "text/plain": [
       "1"
      ]
     },
     "execution_count": 47,
     "metadata": {},
     "output_type": "execute_result"
    }
   ],
   "source": [
    "dequeue()"
   ]
  },
  {
   "cell_type": "code",
   "execution_count": 48,
   "id": "professional-energy",
   "metadata": {},
   "outputs": [
    {
     "data": {
      "text/plain": [
       "2"
      ]
     },
     "execution_count": 48,
     "metadata": {},
     "output_type": "execute_result"
    }
   ],
   "source": [
    "dequeue()"
   ]
  },
  {
   "cell_type": "code",
   "execution_count": null,
   "id": "occupied-brother",
   "metadata": {},
   "outputs": [],
   "source": []
  },
  {
   "cell_type": "markdown",
   "id": "computational-distinction",
   "metadata": {},
   "source": [
    "참조 사이트\n",
    "https://thagomizer.com/blog/2016/05/06/algorithms-queues-and-stacks.html"
   ]
  }
 ],
 "metadata": {
  "kernelspec": {
   "display_name": "aiffel",
   "language": "python",
   "name": "aiffel"
  },
  "language_info": {
   "codemirror_mode": {
    "name": "ipython",
    "version": 3
   },
   "file_extension": ".py",
   "mimetype": "text/x-python",
   "name": "python",
   "nbconvert_exporter": "python",
   "pygments_lexer": "ipython3",
   "version": "3.7.9"
  }
 },
 "nbformat": 4,
 "nbformat_minor": 5
}
