{
 "cells": [
  {
   "cell_type": "markdown",
   "id": "three-youth",
   "metadata": {},
   "source": [
    "# 1. 간단한 링크드 리스트"
   ]
  },
  {
   "cell_type": "markdown",
   "id": "fuzzy-ability",
   "metadata": {},
   "source": [
    "* 링크드 리스트 기본 구조와 용어\n",
    "  - 노드(Node): 데이터 저장 단위 (데이터값, 포인터) 로 구성\n",
    "  - 포인터(pointer): 각 노드 안에서, 다음이나 이전의 노드와의 연결 정보를 가지고 있는 공간\n",
    "\n",
    "<br>\n",
    "* 일반적인 링크드 리스트 형태\n",
    "<img src=\"https://www.fun-coding.org/00_Images/linkedlist.png\" />\n",
    "(출처: wikipedia, https://en.wikipedia.org/wiki/Linked_list)"
   ]
  },
  {
   "cell_type": "markdown",
   "id": "suburban-palace",
   "metadata": {},
   "source": [
    "### Node 구현\n",
    "- 보통 파이썬에서 링크드 리스트 구현시, 파이썬 클래스를 활용함\n",
    "  - 파이썬 객체지향 문법 이해 필요\n",
    "  - 참고: https://www.fun-coding.org/PL&OOP1-3.html"
   ]
  },
  {
   "cell_type": "code",
   "execution_count": 15,
   "id": "superior-singles",
   "metadata": {},
   "outputs": [],
   "source": [
    "# 다음 주소값이 없는 연결리스트( 노드 1개)\n",
    "class Node:\n",
    "    def __init__(self,date):\n",
    "        self.data = date\n",
    "        self.next = None"
   ]
  },
  {
   "cell_type": "code",
   "execution_count": 16,
   "id": "aggregate-projector",
   "metadata": {},
   "outputs": [],
   "source": [
    "# 다음 주소값이 가질수 있는 연결리스트\n",
    "class Node:\n",
    "    def __init__(self,data):\n",
    "        self.data = data\n",
    "        self.next = next\n",
    "        "
   ]
  },
  {
   "cell_type": "code",
   "execution_count": 17,
   "id": "younger-disease",
   "metadata": {},
   "outputs": [],
   "source": [
    "# node01 -> node02 연결리스트 생생\n",
    "node01 = Node(1)\n",
    "node02 = Node(2)\n",
    "node01.next = node02\n",
    "head = node01 # root값 = head값"
   ]
  },
  {
   "cell_type": "markdown",
   "id": "statewide-cyprus",
   "metadata": {},
   "source": [
    "### 링크드 리스트로 데이터 추가하기"
   ]
  },
  {
   "cell_type": "code",
   "execution_count": 18,
   "id": "stopped-nursing",
   "metadata": {},
   "outputs": [],
   "source": [
    "class Node:\n",
    "    def __init__(self, data, next=None):\n",
    "        self.data = data\n",
    "        self.next = next\n",
    "\n",
    "def add(data):\n",
    "    node = head\n",
    "    while node.next:\n",
    "        node = node.next\n",
    "    node.next = Node(data) "
   ]
  },
  {
   "cell_type": "code",
   "execution_count": 19,
   "id": "responsible-visibility",
   "metadata": {},
   "outputs": [],
   "source": [
    "node1 = Node(1)\n",
    "head = node1\n",
    "\n",
    "# 루트(head)값이 1인 노드에 2~>9값을 추가한다.\n",
    "for index in range(2, 10):\n",
    "    add(index)"
   ]
  },
  {
   "cell_type": "markdown",
   "id": "graphic-threat",
   "metadata": {},
   "source": [
    "### 링크드 리스트 데이터 출력하기"
   ]
  },
  {
   "cell_type": "code",
   "execution_count": 20,
   "id": "neither-hollow",
   "metadata": {},
   "outputs": [
    {
     "name": "stdout",
     "output_type": "stream",
     "text": [
      "1\n",
      "2\n",
      "3\n",
      "4\n",
      "5\n",
      "6\n",
      "7\n",
      "8\n",
      "9\n"
     ]
    }
   ],
   "source": [
    "node = head\n",
    "while node.next:\n",
    "    print(node.data)\n",
    "    node = node.next\n",
    "print (node.data)"
   ]
  },
  {
   "cell_type": "markdown",
   "id": "incoming-alberta",
   "metadata": {},
   "source": [
    "# 2. 링크드 리스트의 복잡한 기능1 (링크드 리스트 데이터 사이에 데이터를 추가)\n",
    "- 링크드 리스트는 유지 관리에 부가적인 구현이 필요함\n",
    "\n",
    "<img src=\"https://www.fun-coding.org/00_Images/linkedlistadd.png\" />\n",
    "(출처: wikipedia, https://en.wikipedia.org/wiki/Linked_list)"
   ]
  },
  {
   "cell_type": "code",
   "execution_count": 21,
   "id": "likely-clone",
   "metadata": {},
   "outputs": [
    {
     "name": "stdout",
     "output_type": "stream",
     "text": [
      "1\n",
      "2\n",
      "3\n",
      "4\n",
      "5\n",
      "6\n",
      "7\n",
      "8\n",
      "9\n"
     ]
    }
   ],
   "source": [
    "node = head\n",
    "while node.next:\n",
    "    print(node.data)\n",
    "    node = node.next\n",
    "print (node.data)"
   ]
  },
  {
   "cell_type": "code",
   "execution_count": 22,
   "id": "progressive-intelligence",
   "metadata": {},
   "outputs": [],
   "source": [
    "## 추가될 노드\n",
    "node3 = Node(1.5)"
   ]
  },
  {
   "cell_type": "markdown",
   "id": "funded-orchestra",
   "metadata": {},
   "source": [
    "## 2.1 1인 노드와 2인 노드 사이에 1.5데이터를 갖는 노드를 추가해보자"
   ]
  },
  {
   "cell_type": "code",
   "execution_count": 25,
   "id": "positive-interaction",
   "metadata": {},
   "outputs": [],
   "source": [
    "node = head\n",
    "search = True\n",
    "while search:\n",
    "    if node.data == 1:\n",
    "        search = False\n",
    "    else:\n",
    "        node = node.next\n",
    "\n",
    "node_next = node.next  #이때 node의 데이터는 1\n",
    "node.next = node3      #이때 node의 next 주소 값에 새로생성된 1.5노드값 넣음  \n",
    "node3.next = node_next # 새로 생성된 노드의 next에 ~~(알지??)"
   ]
  },
  {
   "cell_type": "code",
   "execution_count": 26,
   "id": "vanilla-pendant",
   "metadata": {},
   "outputs": [
    {
     "name": "stdout",
     "output_type": "stream",
     "text": [
      "1\n",
      "1.5\n",
      "2\n",
      "3\n",
      "4\n",
      "5\n",
      "6\n",
      "7\n",
      "8\n",
      "9\n"
     ]
    }
   ],
   "source": [
    "node = head\n",
    "while node.next:\n",
    "    print(node.data)\n",
    "    node = node.next\n",
    "print (node.data)"
   ]
  },
  {
   "cell_type": "markdown",
   "id": "french-database",
   "metadata": {},
   "source": [
    "## 2.2. 파이썬 클래스(객체) 링크드 리스트 구현하기`\n",
    "\n",
    "1. 링크드 리스트를 각각의 노드를 생성할수 있는 클래스\n",
    " - class Node\n",
    " \n",
    "2. 링크드 리스트를 관리할수 있는 클래스\n",
    " - class NodeMgmt\n",
    "\n",
    "3. 해당 연결리스트 마지막에 추가\n",
    " - def add(self,data)\n",
    "\n",
    "4. 해당 연결리스트 전체를 출력하는 함수\n",
    " - def desc(self)"
   ]
  },
  {
   "cell_type": "code",
   "execution_count": 40,
   "id": "extraordinary-particular",
   "metadata": {},
   "outputs": [],
   "source": [
    "class Node:\n",
    "    def __init__(self,data,next = None):\n",
    "        self.data = data\n",
    "        self.next = next\n",
    "        \n",
    "\n",
    "class NodeMgmt:\n",
    "    def __init__(self, data):\n",
    "        self.head = Node(data)\n",
    "        \n",
    "    def add(self, data):\n",
    "        if self.head == '':\n",
    "            self.head = Node(data)\n",
    "        else:\n",
    "            node = self.head\n",
    "            while node.next:\n",
    "                node = node.next\n",
    "            node.next = Node(data)\n",
    "            \n",
    "            \n",
    "        \n",
    "    def desc(self):\n",
    "        node = self.head\n",
    "        while node:\n",
    "            print(node.data)\n",
    "            node = node.next\n",
    "\n",
    "        "
   ]
  },
  {
   "cell_type": "code",
   "execution_count": 41,
   "id": "functioning-junior",
   "metadata": {},
   "outputs": [
    {
     "name": "stdout",
     "output_type": "stream",
     "text": [
      "0\n"
     ]
    }
   ],
   "source": [
    "linkedlist1 = NodeMgmt(0)\n",
    "linkedlist1.desc()"
   ]
  },
  {
   "cell_type": "code",
   "execution_count": 42,
   "id": "authorized-exchange",
   "metadata": {},
   "outputs": [
    {
     "name": "stdout",
     "output_type": "stream",
     "text": [
      "0\n",
      "1\n",
      "2\n",
      "3\n",
      "4\n",
      "5\n",
      "6\n",
      "7\n",
      "8\n",
      "9\n"
     ]
    }
   ],
   "source": [
    "for data in range(1, 10):\n",
    "    linkedlist1.add(data)\n",
    "linkedlist1.desc()"
   ]
  },
  {
   "cell_type": "markdown",
   "id": "outdoor-annotation",
   "metadata": {},
   "source": [
    "# 3. 링크드 리스트의 복잡한 기능2 (특정 노드를 삭제)\n",
    "- 기존 코드에서  def delete(self, data): 추가\n",
    "## 삭제 경우의 수\n",
    "- 0) 삭제할 값 존재x\n",
    "- 1) head 삭제\n",
    "- 2) 마지막 노드 삭제\n",
    "- 3) 중간 노드 삭제\n"
   ]
  },
  {
   "cell_type": "code",
   "execution_count": 44,
   "id": "sensitive-cincinnati",
   "metadata": {},
   "outputs": [],
   "source": [
    "class Node:\n",
    "    def __init__(self, data, next=None):\n",
    "        self.data = data\n",
    "        self.next = next\n",
    "    \n",
    "class NodeMgmt:\n",
    "    def __init__(self, data):\n",
    "        self.head = Node(data)\n",
    "        \n",
    "    def add(self, data):\n",
    "        if self.head == '':\n",
    "            self.head = Node(data)\n",
    "        else:\n",
    "            node = self.head\n",
    "            while node.next:\n",
    "                node = node.next\n",
    "            node.next = Node(data)\n",
    "        \n",
    "    def desc(self):\n",
    "        node = self.head\n",
    "        while node:\n",
    "            print (node.data)\n",
    "            node = node.next\n",
    "    \n",
    "    def delete(self, data):\n",
    "        if self.head == '':\n",
    "            print (\"해당 값을 가진 노드가 없습니다.\")\n",
    "            return\n",
    "        \n",
    "        #1) head 삭제\n",
    "        if self.head.data == data:\n",
    "            temp = self.head\n",
    "            self.head = self.head.next\n",
    "            del temp\n",
    "        \n",
    "        else:\n",
    "            node = self.head\n",
    "            while node.next:\n",
    "                if node.next.data == data:\n",
    "                    temp = node.next\n",
    "                    node.next = node.next.next\n",
    "                    del temp\n",
    "                    return\n",
    "                else:\n",
    "                    node = node.next"
   ]
  },
  {
   "cell_type": "markdown",
   "id": "oriented-billion",
   "metadata": {},
   "source": [
    "#### 1개 노드 생성"
   ]
  },
  {
   "cell_type": "code",
   "execution_count": 52,
   "id": "injured-opposition",
   "metadata": {},
   "outputs": [
    {
     "name": "stdout",
     "output_type": "stream",
     "text": [
      "0\n"
     ]
    }
   ],
   "source": [
    "linkedlist01 = NodeMgmt(0)\n",
    "linkedlist01.desc()"
   ]
  },
  {
   "cell_type": "markdown",
   "id": "convertible-translation",
   "metadata": {},
   "source": [
    "#### 헤드 확인"
   ]
  },
  {
   "cell_type": "code",
   "execution_count": 53,
   "id": "tutorial-hardware",
   "metadata": {},
   "outputs": [
    {
     "data": {
      "text/plain": [
       "<__main__.Node at 0x7fa128531790>"
      ]
     },
     "execution_count": 53,
     "metadata": {},
     "output_type": "execute_result"
    }
   ],
   "source": [
    "linkedlist01.head"
   ]
  },
  {
   "cell_type": "markdown",
   "id": "according-czech",
   "metadata": {},
   "source": [
    "#### 헤드 삭제"
   ]
  },
  {
   "cell_type": "code",
   "execution_count": 54,
   "id": "dependent-spank",
   "metadata": {},
   "outputs": [],
   "source": [
    "linkedlist01.delete(0)"
   ]
  },
  {
   "cell_type": "markdown",
   "id": "expensive-geneva",
   "metadata": {},
   "source": [
    "#### 헤드 확인"
   ]
  },
  {
   "cell_type": "code",
   "execution_count": 56,
   "id": "minimal-passport",
   "metadata": {},
   "outputs": [],
   "source": [
    "linkedlist01.head"
   ]
  },
  {
   "cell_type": "markdown",
   "id": "marked-instrumentation",
   "metadata": {},
   "source": [
    "#### 다시 노드 생성"
   ]
  },
  {
   "cell_type": "code",
   "execution_count": 58,
   "id": "enclosed-german",
   "metadata": {},
   "outputs": [
    {
     "name": "stdout",
     "output_type": "stream",
     "text": [
      "0\n"
     ]
    }
   ],
   "source": [
    "linkedlist01 = NodeMgmt(0)\n",
    "linkedlist01.desc()"
   ]
  },
  {
   "cell_type": "markdown",
   "id": "willing-assessment",
   "metadata": {},
   "source": [
    "#### 1~9 노드 추가"
   ]
  },
  {
   "cell_type": "code",
   "execution_count": 61,
   "id": "cosmetic-outside",
   "metadata": {},
   "outputs": [
    {
     "name": "stdout",
     "output_type": "stream",
     "text": [
      "0\n",
      "1\n",
      "2\n",
      "3\n",
      "4\n",
      "5\n",
      "6\n",
      "7\n",
      "8\n",
      "9\n"
     ]
    }
   ],
   "source": [
    "for data in range(1, 10):\n",
    "    linkedlist01.add(data)\n",
    "linkedlist01.desc()"
   ]
  },
  {
   "cell_type": "markdown",
   "id": "mature-secretariat",
   "metadata": {},
   "source": [
    "#### 9삭제"
   ]
  },
  {
   "cell_type": "code",
   "execution_count": 62,
   "id": "median-panama",
   "metadata": {},
   "outputs": [],
   "source": [
    "linkedlist01.delete(9)"
   ]
  },
  {
   "cell_type": "code",
   "execution_count": 63,
   "id": "premier-tourist",
   "metadata": {},
   "outputs": [
    {
     "name": "stdout",
     "output_type": "stream",
     "text": [
      "0\n",
      "1\n",
      "2\n",
      "3\n",
      "4\n",
      "5\n",
      "6\n",
      "7\n",
      "8\n"
     ]
    }
   ],
   "source": [
    "linkedlist01.desc()"
   ]
  },
  {
   "cell_type": "markdown",
   "id": "discrete-renaissance",
   "metadata": {},
   "source": [
    "#### 2삭제"
   ]
  },
  {
   "cell_type": "code",
   "execution_count": null,
   "id": "advised-enemy",
   "metadata": {},
   "outputs": [],
   "source": []
  }
 ],
 "metadata": {
  "kernelspec": {
   "display_name": "aiffel",
   "language": "python",
   "name": "aiffel"
  },
  "language_info": {
   "codemirror_mode": {
    "name": "ipython",
    "version": 3
   },
   "file_extension": ".py",
   "mimetype": "text/x-python",
   "name": "python",
   "nbconvert_exporter": "python",
   "pygments_lexer": "ipython3",
   "version": "3.7.9"
  }
 },
 "nbformat": 4,
 "nbformat_minor": 5
}
